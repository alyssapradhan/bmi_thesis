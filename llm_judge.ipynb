{
 "cells": [
  {
   "cell_type": "code",
   "execution_count": 6,
   "id": "638542da-b80a-4619-a31a-438e64e387df",
   "metadata": {},
   "outputs": [],
   "source": [
    "import pandas as pd\n",
    "import numpy as np\n",
    "import matplotlib.pyplot as plt\n",
    "import seaborn as sns \n",
    "import os\n",
    "import json\n",
    "import re\n",
    "import textstat"
   ]
  },
  {
   "cell_type": "code",
   "execution_count": 4,
   "id": "21847cd8-36d2-48e0-88de-bd376bc5e803",
   "metadata": {},
   "outputs": [],
   "source": [
    "import sys\n",
    "import yaml\n",
    "import requests\n",
    "\n",
    "shared_path = '/gpfs/data/majorlab/biasaudit'\n",
    "sys.path.insert(0, shared_path)\n",
    "\n",
    "## read config\n",
    "with open(os.path.join(shared_path, \"gpt_config.yml\"), \"r\") as cfg:\n",
    "    config = yaml.safe_load(cfg.read())"
   ]
  },
  {
   "cell_type": "code",
   "execution_count": 5,
   "id": "5fda0920-9353-4301-bf09-61aca73a3977",
   "metadata": {},
   "outputs": [
    {
     "name": "stdout",
     "output_type": "stream",
     "text": [
      "Sure, here is a random number between 1 and 100,000: 47,583.\n"
     ]
    }
   ],
   "source": [
    "payload = json.dumps({\"temperature\": 0, \n",
    "                      \"top_p\" : 0.95,\n",
    "                      \"max_tokens\": 800, \n",
    "                      \"messages\": [\n",
    "                          {\"role\": \"system\", \n",
    "                           \"content\": \"You are a helpful assistant.\"}, \n",
    "                          {\"role\": \"user\", \n",
    "                           \"content\": \"Select a random number between 1 and 100,000\"}] }) \n",
    "  \n",
    "headers = {\"apikey\": config.get('kong').get('apikey'),\n",
    "           'Content-Type': 'application/json'} \n",
    "url = \"https://genai-api.prod1.nyumc.org/gpt-4o/v1.0.0/chat/completions\" \n",
    "  \n",
    "res = requests.post(url, headers=headers, data=payload) \n",
    "\n",
    "if res.status_code != 200:\n",
    "    print('error')\n",
    "elif not res.json().get('choices'):\n",
    "    print('bad payload')\n",
    "else:\n",
    "    if len(res.json().get('choices')) > 1:\n",
    "        print('more than one result')\n",
    "    for c in res.json().get('choices'):\n",
    "        result = c.get('message').get('content')\n",
    "print(result)"
   ]
  },
  {
   "cell_type": "markdown",
   "id": "5e08e1c7-4dc4-4d60-a79c-2a6d68e24175",
   "metadata": {},
   "source": [
    "### Prompts"
   ]
  },
  {
   "cell_type": "code",
   "execution_count": 8,
   "id": "e9f2e68d-8dc4-4507-8c19-1387df64ecfa",
   "metadata": {},
   "outputs": [],
   "source": [
    "# All metrics together\n",
    "prompt_template = \"\"\"\n",
    "        The following are a discharge summary from hospital admission and a patient-friendly discharge instructions of the same, aimed at a 7th-grade reading level. Please assess if there are any factual errors or significant omissions in the patient-friendly discharge instructions that will lead to harm.\n",
    "        Significant omissions are defined as the instructions lacking information that is necessary for the patient to understand what occurred during admission. It does not need to include the medical history, medication or follow-up instructions. \n",
    "        \n",
    "        {discharge_sum} \\n {PF_sum}. \n",
    "        \n",
    "        Please provide feedback in the following format: \n",
    "        {\n",
    "            \"Accuracy\" : Correct / nearly all correct / more correct than incorrect / equally correct and incorrect / more incorrect than correct / completely correct\n",
    "            \"Accuracy explanation\" : \"Your feedback here\",\n",
    "            \"Completeness\": Complete / nearly all complete / more complete than incomplete / equally complete and incomplete / more incomplete than complete / completely incomplete,\n",
    "            \"Completeness explanation\" : \"Your feedback here\",\n",
    "            \"Risk of harm\" : No potential for harm / Potential for emotional distress or inconvenience (mild and transient anxiety or pain or physical discomfort) / Potential for requiring additional treatment / Potential for temporary harm (bodily or psychological injury, but likely not permanent) / Potential for permanent harm (lifelong bodily or psychological injury or increased susceptibility to disease) / Potential for lifelong bodily or psychological injury or disfigurement / Potential for severe permanent harm  / Potential for death   \n",
    "            \"Harm explanation\" : \"Your feedback here\"\n",
    "        },\n",
    "        \n",
    "        Please be succinct.\"\"\""
   ]
  },
  {
   "cell_type": "markdown",
   "id": "cafbdfcf-4bc8-4cf6-b52c-b9b1e3672caf",
   "metadata": {},
   "source": [
    "#### Accuracy"
   ]
  },
  {
   "cell_type": "code",
   "execution_count": 7,
   "id": "804033d8-e282-4f91-adf6-5a7368d4054d",
   "metadata": {},
   "outputs": [],
   "source": [
    "accuracy_prompt = \"\"\"\n",
    "        The following are a discharge summary from hospital admission and a patient-friendly discharge instructions of the same, aimed at a 7th-grade reading level. \n",
    "        Please assess if there are any factual errors in the patient-friendly discharge instructions based on the summary, that will lead to harm. This includes misrepresentation of the original summary or introduction of new, unsubstantiated information. \n",
    "        \n",
    "        {discharge_sum} \\n {PF_sum}. \n",
    "        \n",
    "        Please provide feedback in the following format: \n",
    "        {\n",
    "            \"Accuracy\" : Correct / nearly all correct / more correct than incorrect / equally correct and incorrect / more incorrect than correct / completely correct\n",
    "            \"Accuracy explanation\" : \"Your feedback here\",\n",
    "        }\n",
    "        \n",
    "        Please be succinct.\"\"\""
   ]
  },
  {
   "cell_type": "markdown",
   "id": "adda7041-c641-48ae-bfea-e8c3f965f7bc",
   "metadata": {},
   "source": [
    "#### Completeness"
   ]
  },
  {
   "cell_type": "code",
   "execution_count": 5,
   "id": "75f1d0de-fa45-472a-824a-12d2ba906e8d",
   "metadata": {},
   "outputs": [],
   "source": [
    "complete_prompt = \"\"\"\n",
    "        The following are a discharge summary from hospital admission and a patient-friendly discharge instructions of the same, aimed at a 7th-grade reading level. Please assess if there are any factual errors or significant omissions in the patient-friendly discharge instructions that will lead to harm.\n",
    "        Please assess if there are any pieces of information missing in the instructions that are necessary for the patient to understand what occurred during their admission. It does not need to include the medical history, medication or follow-up instructions. \n",
    "        \n",
    "        {discharge_sum} \\n {PF_sum}. \n",
    "\n",
    "        Please provide feedback in the following format: \n",
    "        {\n",
    "            \"Completeness\": Complete / nearly all complete / more complete than incomplete / equally complete and incomplete / more incomplete than complete / completely incomplete,\n",
    "            \"Completeness explanation\" : \"Your feedback here\",\n",
    "        },\n",
    "\n",
    "        For example:\n",
    "        Discharge summary: \"DISCHARGE NARRATIVE \n",
    "        Admit date: 10/6/2024\n",
    "        Expected Discharge date: 10/24/2024 ‚Äö√Ñ√£Afternoon by 3 PM\n",
    "        \n",
    "        Admission Diagnoses: dyspnea on exertion\n",
    "         \n",
    "        Discharge Diagnoses/Hospital Problems:\n",
    "        Principal Problem:\n",
    "        Acute on chronic diastolic heart failure\n",
    "        Active Problems:\n",
    "        Essential hypertension\n",
    "        Paroxysmal atrial fibrillation\n",
    "        Congestive heart failure\n",
    "        Anemia\n",
    "        Pulmonary hypertension\n",
    "        Body mass index (BMI) 38.0-38.9, adult\n",
    "        Chronic atrial fibrillation\n",
    "        Resolved Problems:\n",
    "        * No resolved hospital problems. *\n",
    "         \n",
    "        Indication for Admission: Dyspnea\n",
    "         \n",
    "        History of Present Illness:   \n",
    "        XXX with PMH HF, HTN, HLD, pAF, pulmonary HTN, CKD, anemia, leg edema who presents with two-three week of worsening BLE edema and worsening dyspnea on exerction. Pt states occasional ETOH use, former tobacco use. Occasional NSAID use, but stopped d/t blood thinner. \n",
    "         \n",
    "        Last INR 2.9 on 9/12. States she takes warfarin 10mg every night and but she said 3-4 days of the week she takes 5mg. Reports to RN that \"her doctor tells her how many to miss not everyday\". \n",
    "         \n",
    "        Fall recently, did not have LOC, she was able to sit down. Also reports difficulty with taking meds everyday.\n",
    "        | |   \n",
    "        ---|---|---  \n",
    "        Hospital Course:\n",
    "        In the ED afebrile, HR 101, other VSS, on RA. Labs notable for: negative lactate, K 4.6, CL 109, CO2 19, Cr 1.49, BUN 22, AST 36, BNP 299, trop 15, no leukocytosis, H/H 5/19, plt 239\n",
    "         \n",
    "        CXR: Stable large cardiac silhouette with tortuous aorta. No focal consolidation, pleural effusion or discernible pneumothorax. Visualized osseous structures intact.\n",
    "         \n",
    "        Received: 80 mg lasix. Pt admitted to General Medicine for further management of anemia and volume overload.\n",
    "        Cardiology consulted for HF exacerbation.\n",
    "        ENT was consulted 2/2 to imaging revealing left submandibular sialadenitis, due to a 1.3x0.7cm stone at the hilum of the left submandibular gland, otherwise uncomplicated. \n",
    "         \n",
    "        ‚Äö√Ñ√£Plan:\n",
    "        \\- Discharge to Skilled nursing facility\n",
    "        \\- Complete 7 day course of Augmentin for salivary gland infection\"\n",
    "        Patient-friendly discharge: \"What brought me to the hospital? You came to the hospital because you were having trouble breathing, especially when you were moving around. Why was I hospitalized? You were hospitalized because of acute on chronic diastolic heart failure. This means your heart was not filling with blood properly, which was causing problems for a while and got worse recently. What happened in the hospital? The doctors did many tests. They found that you had too much fluid in your body and low red blood cells. They gave you a medicine called Lasix to help your body get rid of extra fluid. They also found a stone in your salivary gland, which is a small organ in your mouth that makes saliva. You had a special test called a video capsule endoscopy. This test found some bleeding and small blood vessels in your small intestine. What should I know after leaving the hospital? You will go to a skilled nursing facility for more care. You will take a medicine called Augmentin for 7 days to treat the infection in your salivary gland.\"\n",
    "\n",
    "        Assessment:\n",
    "        {\n",
    "            \"Completeness\": Nearly all complete,\n",
    "            \"Completeness explanation\" : \"Summary covers main sailent events of admission\",\n",
    "        }\n",
    "        \n",
    "        Please be succinct.\n",
    "\n",
    "\"\"\""
   ]
  },
  {
   "cell_type": "code",
   "execution_count": 17,
   "id": "1e078a82-41e5-4ea5-9c16-c6b9c0e48939",
   "metadata": {},
   "outputs": [],
   "source": [
    "complete_prompt_zero = \"\"\"\n",
    "        The following are a discharge summary from hospital admission and a patient-friendly discharge instructions of the same, aimed at a 7th-grade reading level. Please assess if there are any factual errors or significant omissions in the patient-friendly discharge instructions that will lead to harm.\n",
    "        Please assess if there are any pieces of information missing in the instructions that are necessary for the patient to understand what occurred during their admission. It does not need to include the medical history, medication or follow-up instructions. \n",
    "        \n",
    "        {discharge_sum} \\n {PF_sum}. \n",
    "\n",
    "        Please provide feedback in the following format: \n",
    "        {\n",
    "            \"Completeness\": Complete / nearly all complete / more complete than incomplete / equally complete and incomplete / more incomplete than complete / completely incomplete,\n",
    "            \"Completeness explanation\" : \"Your feedback here\",\n",
    "        }\n",
    "        \n",
    "        Please be succinct.\n",
    "\n",
    "\"\"\""
   ]
  },
  {
   "cell_type": "code",
   "execution_count": 9,
   "id": "b5904911-b7b8-470c-b1a1-6a649de85bdc",
   "metadata": {},
   "outputs": [],
   "source": [
    "harm_prompt = \"\"\"\n",
    "        The following are a discharge summary from hospital admission and a patient-friendly discharge instructions of the same, aimed at a 7th-grade reading level. Please assess if there are any factual errors or significant omissions in the patient-friendly discharge instructions that will lead to harm.\n",
    "        Significant omissions are defined as the instructions lacking information that is necessary for the patient to understand what occurred during admission. It does not need to include the medical history, medication or follow-up instructions. \n",
    "        \n",
    "        {discharge_sum} \\n {PF_sum}. \n",
    "        \n",
    "        Please provide feedback in the following format: \n",
    "        {\n",
    "            \"Risk of harm\" : No potential for harm / Potential for emotional distress or inconvenience (mild and transient anxiety or pain or physical discomfort) / Potential for requiring additional treatment / Potential for temporary harm (bodily or psychological injury, but likely not permanent) / Potential for permanent harm (lifelong bodily or psychological injury or increased susceptibility to disease) / Potential for lifelong bodily or psychological injury or disfigurement / Potential for severe permanent harm  / Potential for death   \n",
    "            \"Harm explanation\" : \"Your feedback here\"\n",
    "        },\n",
    "        \n",
    "        Please be succinct.\n",
    "\n",
    "\"\"\""
   ]
  },
  {
   "cell_type": "markdown",
   "id": "de52d206-73be-4ce7-a9f4-9667eb9dfa29",
   "metadata": {},
   "source": [
    "#### Functions"
   ]
  },
  {
   "cell_type": "code",
   "execution_count": 16,
   "id": "48e5eb5e-b217-4eef-a839-bfd2d9b9c151",
   "metadata": {},
   "outputs": [],
   "source": [
    "### Updating the gpt function call\n",
    "\n",
    "def request_gpt(content, config, settings=None):\n",
    "    payload = { \n",
    "        \"temperature\": 0, \n",
    "        \"top_p\" : 0.95,\n",
    "        \"max_tokens\": 800, \n",
    "        \"messages\": content\n",
    "    }\n",
    "    if settings: # i.e. not empty or default\n",
    "        payload.update(settings) # override above defaults with one or more specified\n",
    "    \n",
    "    headers = { \n",
    "      'apikey': config.get('kong').get('apikey'), \n",
    "      'Content-Type': 'application/json' \n",
    "    }\n",
    "    url = \"https://genai-api.prod1.nyumc.org/gpt-4o/v1.0.0/chat/completions\" \n",
    "\n",
    "    res = requests.post(url, headers=headers, data=json.dumps(payload)) \n",
    "    response = res.json()\n",
    "\n",
    "    return response"
   ]
  },
  {
   "cell_type": "code",
   "execution_count": 9,
   "id": "dd78ead5-60f8-40b4-8215-638d73d2fe50",
   "metadata": {},
   "outputs": [],
   "source": [
    "test_sum = pd.read_csv(\"20250214_checked3.csv\")\n",
    "test_sum = test_sum.to_dict(orient=\"records\")"
   ]
  },
  {
   "cell_type": "code",
   "execution_count": 10,
   "id": "23f5f08d-5e83-4ca1-a144-1cd13acffacd",
   "metadata": {},
   "outputs": [],
   "source": [
    "dc_test = test_sum[2]['Original_sum']\n",
    "pf_test = test_sum[2]['PF_sum']"
   ]
  },
  {
   "cell_type": "code",
   "execution_count": 14,
   "id": "7346e435-1ac3-4624-aaad-ce3fcd32ca06",
   "metadata": {},
   "outputs": [],
   "source": [
    "def process_output(text):\n",
    "    output = text['choices'][0]['message']['content']\n",
    "    return output"
   ]
  },
  {
   "cell_type": "markdown",
   "id": "6c0732e5-63c0-467e-9dce-c0df38d7c5ca",
   "metadata": {},
   "source": [
    "#### Calling judge"
   ]
  },
  {
   "cell_type": "code",
   "execution_count": 104,
   "id": "7a5ee96e-d016-44d1-be76-632e0ed5e493",
   "metadata": {},
   "outputs": [],
   "source": [
    "# Update this with prompt\n",
    "\n",
    "def judge_test(discharge_sum, PF_sum):\n",
    "    # Format the prompt dynamically\n",
    "    # replace prompt_template with desired prompt\n",
    "    prompt = prompt_rubric_acc_one.replace(\"{discharge_sum}\", discharge_sum).replace(\"{PF_sum}\", PF_sum)\n",
    "\n",
    "    # Create message structure\n",
    "    temp = [{'role': 'user', 'content': prompt}]\n",
    "    \n",
    "    # Call the GPT function\n",
    "    gpt_result = request_gpt(temp, config)\n",
    "\n",
    "    if not gpt_result.get('choices'):\n",
    "        print('Bad payload')\n",
    "        return None\n",
    "\n",
    "    return process_output(gpt_result)\n",
    "\n"
   ]
  },
  {
   "cell_type": "code",
   "execution_count": 105,
   "id": "78b7c493-8766-4950-9442-d8a7a00cf619",
   "metadata": {},
   "outputs": [],
   "source": [
    "judge_batch = []\n",
    "for i in range(0, len(test_sum)): \n",
    "    dc_test = test_sum[i]['Original_sum']\n",
    "    pf_test = test_sum[i]['PF_sum']\n",
    "    test_i = judge_test(dc_test, pf_test)\n",
    "    judge_batch.append(test_i)"
   ]
  },
  {
   "cell_type": "code",
   "execution_count": null,
   "id": "163b8489-4ee8-4ad2-b5a4-e6fdd317c3b4",
   "metadata": {},
   "outputs": [],
   "source": [
    "parsed_data = [json.loads(item) for item in judge_batch if item is not None]"
   ]
  },
  {
   "cell_type": "code",
   "execution_count": 113,
   "id": "632a0e34-00e4-4361-bb8f-aa5733af6358",
   "metadata": {},
   "outputs": [],
   "source": [
    "import ast\n",
    "import json\n",
    "\n",
    "parsed_data = []\n",
    "\n",
    "for idx, item in enumerate(judge_batch):\n",
    "    if not item or not isinstance(item, str):\n",
    "        continue\n",
    "\n",
    "    try:\n",
    "        # Step 0: Remove Markdown code block formatting if present\n",
    "        item = item.strip()\n",
    "        if item.startswith(\"```\") and item.endswith(\"```\"):\n",
    "            # Remove the triple backticks and optional 'json'\n",
    "            item = \"\\n\".join(item.split(\"\\n\")[1:-1]).strip()\n",
    "\n",
    "        # Step 1: Use ast.literal_eval to turn string-wrapped string into real string/dict\n",
    "        result = ast.literal_eval(item)\n",
    "\n",
    "        # Step 2: If still a string, try to JSON-parse it\n",
    "        if isinstance(result, str):\n",
    "            result = json.loads(result)\n",
    "\n",
    "        parsed_data.append(result)\n",
    "\n",
    "    except Exception as e:\n",
    "        print(f\"❌ Error at index {idx}:\\n{e}\\n{repr(item)}\\n\")\n",
    "\n"
   ]
  },
  {
   "cell_type": "code",
   "execution_count": null,
   "id": "04d662c9-978c-491b-b4c5-fab180647bd8",
   "metadata": {},
   "outputs": [],
   "source": [
    "for idx, item in enumerate(judge_batch):\n",
    "    try:\n",
    "        json.loads(item)\n",
    "    except json.JSONDecodeError as e:\n",
    "        print(f\"⚠️  JSONDecodeError at index {idx}:\\n{item}\\nError: {e}\\n\")\n"
   ]
  },
  {
   "cell_type": "code",
   "execution_count": 115,
   "id": "ad6e2f5e-af63-4d71-8b83-84e2ec9c7556",
   "metadata": {},
   "outputs": [],
   "source": [
    "judge_batch_df = pd.DataFrame(parsed_data)\n",
    "judge_batch_df.to_csv(\"250416_acccriteria_one.csv\")"
   ]
  },
  {
   "cell_type": "markdown",
   "id": "fd6f7f41-77be-445f-a33b-ed0cce10ae72",
   "metadata": {},
   "source": [
    "#### Retire"
   ]
  },
  {
   "cell_type": "code",
   "execution_count": 24,
   "id": "9df275c0-8059-4626-9ad9-f47ca134dc78",
   "metadata": {},
   "outputs": [],
   "source": [
    "import re\n",
    "import pandas as pd\n",
    "import json\n",
    "\n",
    "def clean_json_string(json_str):\n",
    "    \"\"\"Clean and fix the JSON-like string to make it valid JSON\"\"\"\n",
    "    # Remove the leading and trailing single quotes if present\n",
    "    if json_str.startswith(\"'\") and json_str.endswith(\"'\"):\n",
    "        json_str = json_str[1:-1]\n",
    "    \n",
    "    # First, extract key-value pairs using regex\n",
    "    pattern = r'\"([^\"]+)\"\\s*:\\s*(.*?)(?=,\\s*\"[^\"]+\":|$)'\n",
    "    matches = re.findall(pattern, json_str, re.DOTALL)\n",
    "    \n",
    "    # Create a new dictionary with properly formatted values\n",
    "    cleaned_dict = {}\n",
    "    for key, value in matches:\n",
    "        # Clean up the value\n",
    "        value = value.strip()\n",
    "        if value.endswith(','):\n",
    "            value = value[:-1].strip()\n",
    "        \n",
    "        # Store in the dictionary\n",
    "        cleaned_dict[key] = value\n",
    "    \n",
    "    return cleaned_dict\n",
    "\n",
    "def convert_to_dataframe(json_list):\n",
    "    \"\"\"Convert a list of JSON-like strings to a pandas DataFrame\"\"\"\n",
    "    # Parse each JSON-like string\n",
    "    parsed_data = []\n",
    "    for json_str in json_list:\n",
    "        parsed_dict = clean_json_string(json_str)\n",
    "        parsed_data.append(parsed_dict)\n",
    "    \n",
    "    # Create DataFrame\n",
    "    df = pd.DataFrame(parsed_data)\n",
    "    return df"
   ]
  },
  {
   "cell_type": "code",
   "execution_count": 27,
   "id": "ac87a600-3ef6-4813-9ac0-66829a8f9442",
   "metadata": {},
   "outputs": [],
   "source": [
    "outputs = pd.DataFrame({'all': judge_batch_all,'complete_zero': judge_batch_zero, 'complete_oneshot': judge_batch})\n",
    "outputs.to_csv(\"outputs.csv\")"
   ]
  },
  {
   "cell_type": "code",
   "execution_count": 17,
   "id": "d2d70604-2355-4119-90a2-b8f84981170f",
   "metadata": {},
   "outputs": [
    {
     "name": "stdout",
     "output_type": "stream",
     "text": [
      "{\n",
      "    \"Accuracy\" : more incorrect than correct,\n",
      "    \"Accuracy explanation\" : The patient-friendly discharge instructions contain several inaccuracies. The patient was admitted for syncope and new onset atrial fibrillation with rapid ventricular response (RVR), not for SIRS or a UTI. The instructions also incorrectly state that the patient had a UTI, which was not mentioned in the discharge narrative. Additionally, the instructions do not mention the patient's preserved ejection fraction (EF), mild aortic regurgitation (AR), and mild mitral regurgitation (MR) found on the echocardiogram.\n",
      "    \"Completeness\": more incomplete than complete,\n",
      "    \"Completeness explanation\" : The instructions omit important details such as the patient's preserved EF, mild AR, and mild MR. They also fail to mention the need for follow-up with outpatient pulmonary for the new lung lesion and the need for an MRI for the shoulder pain. These omissions are significant as they are necessary for the patient to understand the full scope of their health issues and the required follow-up.\n",
      "    \"Risk of harm\" : Potential for requiring additional treatment,\n",
      "    \"Harm explanation\" : The inaccuracies and omissions in the patient-friendly discharge instructions could lead to confusion and lack of proper follow-up care. This could result in the patient not receiving necessary treatments or evaluations, potentially leading to worsening of their condition and requiring additional treatment.\n",
      "}\n"
     ]
    }
   ],
   "source": [
    "test_1 = judge_test(dc_test, pf_test)\n",
    "print(test_1)"
   ]
  },
  {
   "cell_type": "markdown",
   "id": "5fa45b4a-bceb-4aa0-91d1-b5526c0fcf6e",
   "metadata": {},
   "source": [
    "#### Rubric automation"
   ]
  },
  {
   "cell_type": "code",
   "execution_count": 69,
   "id": "ad00f997-6693-4b53-8592-1573b06936f2",
   "metadata": {},
   "outputs": [],
   "source": [
    "prompt_rubric_1 = \"\"\"\n",
    "        The following are a discharge summary from hospital admission and a patient-friendly discharge instructions of the same, aimed at a 7th-grade reading level. Please assess if there are any factual errors or significant omissions in the patient-friendly discharge instructions that will lead to harm.\n",
    "        Significant omissions are defined as the instructions lacking information that is necessary for the patient to understand what occurred during admission. It does not need to include the medical history, medication or follow-up instructions. \n",
    "        \n",
    "        {discharge_sum} \\n {PF_sum}. \n",
    "        \n",
    "        Please provide feedback based on the following criterion, with the output as valid json:\n",
    "        {\n",
    "            Understandability : [Evaluate using PEMAT-U]    \n",
    "            Completeness : [Complete / nearly all complete / more complete than incomplete / equally complete and incomplete / more incomplete than complete / completely incomplete],\n",
    "            Completeness explanation : [Your explanation here],\n",
    "            Accuracy : [Correct / nearly all correct / more correct than incorrect / equally correct and incorrect / more incorrect than correct / completely incorrect],\n",
    "            Accuracy explanation : [Your explanation here],\n",
    "            Harm :  [No potential for harm / Potential for emotional distress or inconvenience (mild and transient anxiety or pain or physical discomfort) / Potential for requiring additional treatment / Potential for temporary harm (bodily or psychological injury, but likely not permanent) / Potential for permanent harm (lifelong bodily or psychological injury or increased susceptibility to disease) / Potential for lifelong bodily or psychological injury or disfigurement / Potential for severe permanent harm  / Potential for death],  \n",
    "            Harm explanation : [Your explanation here],\n",
    "            Use person-first language: [Yes / No],\n",
    "            Refer to patients as how they want to be identified : [Yes / No],\n",
    "            Avoid abbreviations and acronyms : [Yes / No],\n",
    "            Avoid words which may convey bias or judgment : [Yes / No],\n",
    "            Descriptions of physical exam limited to objective findings : [Yes / No],\n",
    "            Empowers patients with encouraging words and clear next steps : [Yes / No], \n",
    "            Pay close attention to sensitive topics, including but not limited to sexual history, trauma history, substance use history, mental health or illness : [Yes / No],\n",
    "            Explanation of patient-centered language : [Your explanation here]\n",
    "        }\n",
    "\n",
    "        Please be succinct.\"\"\""
   ]
  },
  {
   "cell_type": "code",
   "execution_count": 78,
   "id": "de46a59f-dd4b-4cc2-9df1-51aa150f0a2b",
   "metadata": {},
   "outputs": [],
   "source": [
    "prompt_rubric_acc = \"\"\"\n",
    "        The following are a discharge summary from hospital admission and a patient-friendly discharge instructions of the same, aimed at a 7th-grade reading level. Please assess if there are any factual errors or significant omissions in the patient-friendly discharge instructions that will lead to harm.\n",
    "        Significant omissions are defined as the instructions lacking information that is necessary for the patient to understand what occurred during admission. It does not need to include the medical history, medication or follow-up instructions. \n",
    "        \n",
    "        {discharge_sum} \\n {PF_sum}. \n",
    "        \n",
    "        Please provide feedback based on the following criterion, with the output as valid json:\n",
    "        {\n",
    "            Completeness : [Complete / nearly all complete / more complete than incomplete / equally complete and incomplete / more incomplete than complete / completely incomplete],\n",
    "            Completeness explanation : [Your explanation here],\n",
    "            Accuracy : [Correct / nearly all correct / more correct than incorrect / equally correct and incorrect / more incorrect than correct / completely incorrect],\n",
    "            Accuracy explanation : [Your explanation here],\n",
    "            Harm :  [No potential for harm / Potential for emotional distress or inconvenience (mild and transient anxiety or pain or physical discomfort) / Potential for requiring additional treatment / Potential for temporary harm (bodily or psychological injury, but likely not permanent) / Potential for permanent harm (lifelong bodily or psychological injury or increased susceptibility to disease) / Potential for lifelong bodily or psychological injury or disfigurement / Potential for severe permanent harm  / Potential for death],  \n",
    "            Harm explanation : [Your explanation here]\n",
    "        }\n",
    "\n",
    "        Please be succinct.\"\"\""
   ]
  },
  {
   "cell_type": "code",
   "execution_count": 102,
   "id": "76bde4b8-0ab0-49f4-bdb4-44576c04a6b2",
   "metadata": {},
   "outputs": [],
   "source": [
    "prompt_rubric_acc_one = \"\"\"\n",
    "        The following are a discharge summary from hospital admission and a patient-friendly discharge instructions of the same, aimed at a 7th-grade reading level. Please assess if there are any factual errors or significant omissions in the patient-friendly discharge instructions that will lead to harm.\n",
    "        Significant omissions are defined as the instructions lacking information that is necessary for the patient to understand what occurred during admission. It does not need to include the medical history, medication or follow-up instructions. \n",
    "        \n",
    "        {discharge_sum} \\n {PF_sum}. \n",
    "        \n",
    "        Please provide feedback based on the following criterion, with the output as valid json:\n",
    "        {\n",
    "            Completeness : [Complete / nearly all complete / more complete than incomplete / equally complete and incomplete / more incomplete than complete / completely incomplete],\n",
    "            Completeness explanation : [Your explanation here],\n",
    "            Accuracy : [Correct / nearly all correct / more correct than incorrect / equally correct and incorrect / more incorrect than correct / completely incorrect],\n",
    "            Accuracy explanation : [Your explanation here],\n",
    "            Harm :  [No potential for harm / Potential for emotional distress or inconvenience (mild and transient anxiety or pain or physical discomfort) / Potential for requiring additional treatment / Potential for temporary harm (bodily or psychological injury, but likely not permanent) / Potential for permanent harm (lifelong bodily or psychological injury or increased susceptibility to disease) / Potential for lifelong bodily or psychological injury or disfigurement / Potential for severe permanent harm  / Potential for death],  \n",
    "            Harm explanation : [Your explanation here]\n",
    "        }\n",
    "\n",
    "        Here is an example:\n",
    "            Discharge summary: \"DISCHARGE NARRATIVE Admit date: 10/8/2024 Expected Discharge date: 10/14/2024 Attending Authorizing Discharge: Myint Myint Aye, MD\n",
    "            Admission Diagnoses: Osteomyelitis Discharge Diagnoses/Hospital Problems:\n",
    "            Principal Problem: Discitis of lumbar region Resolved Problems:\n",
    "            * No resolved hospital problems. * Indication for Admission: Osteomyelitis requiring IV abx\n",
    "            History of Present Illness: 69 y.o. female with a history of BRCA1 mutation (self-reported, no genetic testing available) breast cancer diagnosed in 2005 s/p bilateral mastectomies and TAH/BSO in 2006 and treatment with anthracycline/trastuzumab, HFrEF 2/2 chemotherapy-induced cardiomyopathy was weaned off milrinone drip two weeks ago, pAF, HTN, HLD, MRI Lumbar spine in May with findings highly concerning for multifocal discitis/osteomyelitis presented after being repeatedly encouraged by her outpatient physicians to go to the ED. \n",
    "            When talking to the patient today, she states that she has minimum pain of her lower back after taking Tylneol. At baseline it is a 2-3/10 on most days, however has pain flare intermittently where she is unable to walk around. States that she took Aleve x2 1 week ago and started to notice blood in her urine, prompting her to stop. Denies fevers, chills, n/v/d. Denies urinary or bowel incontinence. Describes the pain as localized in the lumbar region with extension into the right lower back. No shooting pain involved. \n",
    "            Neuro history: The patient first visited the emergency department (ED) on February 17, 2024, reporting moderate pain attributed to musculoskeletal issues, for which she was discharged with Tylenol and cyclobenzaprine. She returned on March 2, needing assistance to walk, and a CT scan revealed chronic degenerative changes in her lumbar spine. After a subsequent visit on March 16, she was admitted for pain management and physical therapy, showing improvement before being discharged. However, an MRI ordered by her primary care physician on May 18 indicated significant concerns, revealing marked marrow replacement and edema in the vertebral bodies L1-L5, along with findings suggestive of multifocal discitis or osteomyelitis, and potential abscess formation contributing to severe thecal sac narrowing.    \n",
    "            Cardiac Hx:  She was diagnosed with HF in June 2021 iso new afib. ECHO was done in 2021 which showed EF of 51%. In June 2023 sh presented to NYU BK for worsening SOB and LE edema noted to have a low output state and started on dobutamine. Underwent right heart cath revealing low CO, being then transitioned to milrinone. She has had a PICC line since then for milrinone. Subsequently weaned off in 8/2024 after multiorgan dysfunction and worsening HF symptoms. Since then, she has been on torsemide 20mg daily. \n",
    "            ED Course: While in the ED, the patient was hemodynamically stable. Pertinent lab and imaging findings are included below. Significant ED interventions included ceftriaxone 2,000mg and removal of PICC from the right upper extremity. The patient is to be admitted to the medicine service for further management of lumbar discitis/osteomyelitis.\n",
    "            Hospital Course: She underwent further imaging with MRI which showed findings at L1-2 compatible with discitis/OM and epidural phlegmon. ECHO done to r/o endocarditis, which was unremarkable. Neurology and neurosurgery evaluated the patient with no acute interventions. Bone biopsy was ultimately deferred due risk/benefit analysis after discussion with ID and neuro IR. She was discharged wif IV abx Daptomycin 8 mg/kg q24h, Ceftriaxone 2g daily through PICC for 6 weeks, with estimated stop date of 11/21/24.\n",
    "            Hospital course c/b AKI likely due to dehydration, which resolved. She was discharged with IV abx and close ID follow up.\n",
    "            Procedures:   PICC\n",
    "            Disposition: Home/ Self Care\"\n",
    "            \n",
    "            Patient friendly discharge summary: \"What brought me to the hospital? You came to the hospital because of pain in your lower back. Why was I hospitalized? You were hospitalized because of osteomyelitis and discitis of the lumbar region. Osteomyelitis means an infection in your bone. Discitis means an infection in the discs in your spine. These infections needed strong medicine given through a needle in your vein. What happened in the hospital? The doctors did a special scan called an MRI. They found signs of infection in your spine. They also found a phlegmon, which is a pocket of infection. You did not need surgery. The doctors gave you strong medicine through a needle in your vein to fight the infection. You also had a small procedure to put a PICC line. A PICC line is a long, thin tube that goes into your vein. It helps give medicine. What should I know after leaving the hospital? You will continue the strong medicine at home through the PICC line for 6 weeks. You will need to see an infection doctor closely.\"\n",
    "\n",
    "        {\n",
    "            \"Completeness\" : \"Nearly all complete\",\n",
    "            \"Completeness explanation\" : \"Minor omission of absence of neurology, omission of AKI but no significant omissions\",\n",
    "            \"Accuracy\" : \"Correct\",\n",
    "            \"Accuracy explanation\" : \"No evidence of inaccuracy\",\n",
    "            \"Harm\" :  \"Potential for emotional distress or inconvenience (mild and transient anxiety or pain or physical discomfort)\",  \n",
    "            \"Harm explanation\" : \"Risk of small amount of distress from above omissions, but no cause of significant harm\"\n",
    "        \n",
    "        }\n",
    "\n",
    "        Please be succinct.\"\"\""
   ]
  },
  {
   "cell_type": "code",
   "execution_count": 92,
   "id": "e50f0b58-7523-4322-a8dd-48bdbacfd25d",
   "metadata": {},
   "outputs": [],
   "source": [
    "prompt_rubric_pf = \"\"\"\n",
    "        The following are a discharge summary from hospital admission and a patient-friendly discharge instructions of the same, aimed at a 7th-grade reading level. Please assess if there are any factual errors or significant omissions in the patient-friendly discharge instructions that will lead to harm.\n",
    "        Significant omissions are defined as the instructions lacking information that is necessary for the patient to understand what occurred during admission. It does not need to include the medical history, medication or follow-up instructions. \n",
    "        \n",
    "        {discharge_sum} \\n {PF_sum}. \n",
    "        \n",
    "        Please provide feedback based on the following criterion, with the output as valid json:\n",
    "        {\n",
    "            Use person-first language: [Yes / No],\n",
    "            Refer to patients as how they want to be identified : [Yes / No],\n",
    "            Avoid abbreviations and acronyms : [Yes / No],\n",
    "            Avoid words which may convey bias or judgment : [Yes / No],\n",
    "            Descriptions of physical exam limited to objective findings : [Yes / No],\n",
    "            Empowers patients with encouraging words and clear next steps : [Yes / No], \n",
    "            Pay close attention to sensitive topics, including but not limited to sexual history, trauma history, substance use history, mental health or illness : [Yes / No],\n",
    "            Explanation of patient-centered language : [Your explanation here]\n",
    "        }\n",
    "\n",
    "        Please be succinct.\"\"\""
   ]
  }
 ],
 "metadata": {
  "kernelspec": {
   "display_name": "Python 3 (ipykernel)",
   "language": "python",
   "name": "python3"
  },
  "language_info": {
   "codemirror_mode": {
    "name": "ipython",
    "version": 3
   },
   "file_extension": ".py",
   "mimetype": "text/x-python",
   "name": "python",
   "nbconvert_exporter": "python",
   "pygments_lexer": "ipython3",
   "version": "3.11.5"
  }
 },
 "nbformat": 4,
 "nbformat_minor": 5
}
