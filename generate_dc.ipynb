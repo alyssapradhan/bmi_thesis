{
 "cells": [
  {
   "cell_type": "code",
   "execution_count": null,
   "id": "e1a0e394",
   "metadata": {},
   "outputs": [],
   "source": [
    "! pip install medspacy==1.2.0"
   ]
  },
  {
   "cell_type": "code",
   "execution_count": null,
   "id": "e47f3dd2",
   "metadata": {},
   "outputs": [],
   "source": [
    "! pip install openai==1.55.0"
   ]
  },
  {
   "cell_type": "code",
   "execution_count": 3,
   "id": "1c83c0db",
   "metadata": {},
   "outputs": [],
   "source": [
    "import sys\n",
    "shared_path = '/gpfs/data/majorlab/biasaudit'\n",
    "sys.path.insert(0, shared_path)"
   ]
  },
  {
   "cell_type": "code",
   "execution_count": null,
   "id": "93d13482-6ad6-469c-9ba0-7dbc360de58e",
   "metadata": {},
   "outputs": [],
   "source": [
    "from bson import ObjectId\n",
    "from pymongo import MongoClient\n",
    "from pymongo.errors import *"
   ]
  },
  {
   "cell_type": "markdown",
   "id": "f62a8dab-7f52-4bda-8041-40bb1a5e3613",
   "metadata": {},
   "source": [
    "#### Install"
   ]
  },
  {
   "cell_type": "code",
   "execution_count": null,
   "id": "a8c393c2",
   "metadata": {},
   "outputs": [],
   "source": [
    "import yaml\n",
    "import datetime\n",
    "import time\n",
    "import pytz\n",
    "import os\n",
    "import json\n",
    "import requests\n",
    "import logging\n",
    "import gc\n",
    "\n",
    "#import random\n",
    "from preprocess import preprocess_dcnarrative # custom\n",
    "from note_helpers import * # custom\n",
    "#from interconnect import push_set_of_sdes, push_success_flowsheet # not needed for testing\n",
    "\n",
    "## time stuff\n",
    "## timezone first\n",
    "est = pytz.timezone('America/New_York')\n",
    "last_request = datetime.datetime(2024, 1, 1) # init\n",
    "## get now and round down to the minute\n",
    "#now = datetime.datetime.now(tz=est)\n",
    "#now_s = now.replace(second=0).strftime(\"%Y-%m-%dT%H:%M:%SZ\")\n",
    "\n",
    "# set up logging\n",
    "def timetz(*args):\n",
    "    return datetime.datetime.now(est).timetuple()\n",
    "logging.Formatter.converter = timetz # convert logging timezone to Eastern\n",
    "logging.basicConfig(level=logging.INFO,\n",
    "                    format='PatientFriendly | GPTRunner | %(asctime)s | %(levelname)s | %(message)s',\n",
    "                    datefmt='%Y-%m-%d %H:%M:%S')\n",
    "logger = logging.getLogger(\"SCDS logger\")"
   ]
  },
  {
   "cell_type": "code",
   "execution_count": 5,
   "id": "a6413792",
   "metadata": {},
   "outputs": [
    {
     "name": "stderr",
     "output_type": "stream",
     "text": [
      "PatientFriendly | GPTRunner | 2025-01-31 08:41:00 | INFO | starting up GPT runner in ENV=PRD using interconnect app=noteconcept\n"
     ]
    },
    {
     "name": "stdout",
     "output_type": "stream",
     "text": [
      "Operating in Epic's PRD environment, using the noteconcept app\n",
      "PRD\n"
     ]
    }
   ],
   "source": [
    "import argparse\n",
    "parser = argparse.ArgumentParser(description='SDE push script')\n",
    "parser.add_argument(\"-f\", help = \"Dummy argument to trick jupyter...\")\n",
    "args = parser.parse_args()\n",
    "# any overrides here\n",
    "args.epic_env = 'PRD' #os.environ.get('ENV','POC') # if missing, take POC\n",
    "args.app = 'noteconcept' #os.environ.get('IC_APP', 'noteconcept')\n",
    "\n",
    "logger.info('starting up GPT runner in ENV={} using interconnect app={}'.format(args.epic_env, args.app))\n",
    "\n",
    "print(\"Operating in Epic's {} environment, using the {} app\".format(args.epic_env, args.app))\n",
    "\n",
    "## find prod vs non-prod from more granular Epic env\n",
    "if args.epic_env == 'PRD':\n",
    "    args.epic_env_class = 'PRD'\n",
    "    args.mongo_version = 'MongoProd_Owner'\n",
    "else:\n",
    "    args.epic_env_class = 'nonPRD'\n",
    "    args.mongo_version = 'MongoDev_Owner'\n",
    "print(args.epic_env_class)\n",
    "\n",
    "## read config\n",
    "with open(os.path.join(shared_path, \"gpt_config.yml\"), \"r\") as cfg:\n",
    "    config = yaml.safe_load(cfg.read())\n",
    "\n",
    "min_s = int(config.get('kong').get('delta'))\n",
    "args.app_user = config.get('credentials').get('user', 'none')\n",
    "args.app_pass = config.get('credentials').get('password', 'none')\n",
    "## check values\n",
    "if args.app_user=='none' or args.app_pass=='none':\n",
    "    print('One or both of the user or password is empty, panic!')\n",
    "#print(config)\n",
    "\n",
    "sdes = config.get('sdes')\n",
    "\n",
    "with open(os.path.join(shared_path, 'prompts/ChatSetup-DC.json')) as j:\n",
    "    setup = json.load(j)\n",
    "chat_payload = []\n",
    "\n",
    "chat_payload.append({'role': 'system', \n",
    "                     'content': setup.get('systemPrompt')})\n",
    "\n",
    "for ex in setup.get('fewShotExamples'): # list\n",
    "    chat_payload.append({'role': 'user', \n",
    "                         'content': ex.get('userInput')})\n",
    "    chat_payload.append({'role': 'assistant', \n",
    "                         'content': ex.get('chatbotResponse')})\n",
    "\n",
    "gpt_settings = setup.get('chatParameters')\n",
    "\n",
    "with open(os.path.join(shared_path, 'prompts/DC Prompt.txt')) as p:\n",
    "    prompt = p.read()"
   ]
  },
  {
   "cell_type": "markdown",
   "id": "9f046e32",
   "metadata": {},
   "source": [
    "## Testing"
   ]
  },
  {
   "cell_type": "code",
   "execution_count": 6,
   "id": "9252ba4c",
   "metadata": {},
   "outputs": [
    {
     "name": "stdout",
     "output_type": "stream",
     "text": [
      "Sure, here is a random number between 1 and 100,000: 47,583.\n"
     ]
    }
   ],
   "source": [
    "payload = json.dumps({\"temperature\": 0, \n",
    "                      \"top_p\" : 0.95,\n",
    "                      \"max_tokens\": 800, \n",
    "                      \"messages\": [\n",
    "                          {\"role\": \"system\", \n",
    "                           \"content\": \"You are a helpful assistant.\"}, \n",
    "                          {\"role\": \"user\", \n",
    "                           \"content\": \"Select a random number between 1 and 100,000\"}] }) \n",
    "  \n",
    "headers = {\"apikey\": config.get('kong').get('apikey'),\n",
    "           'Content-Type': 'application/json'} \n",
    "url = \"https://genai-api.prod1.nyumc.org/gpt-4o/v1.0.0/chat/completions\" \n",
    "  \n",
    "res = requests.post(url, headers=headers, data=payload) \n",
    "\n",
    "if res.status_code != 200:\n",
    "    print('error')\n",
    "elif not res.json().get('choices'):\n",
    "    print('bad payload')\n",
    "else:\n",
    "    if len(res.json().get('choices')) > 1:\n",
    "        print('more than one result')\n",
    "    for c in res.json().get('choices'):\n",
    "        result = c.get('message').get('content')\n",
    "print(result)"
   ]
  },
  {
   "cell_type": "markdown",
   "id": "6e85e7f8",
   "metadata": {},
   "source": [
    "You can change anything there, the parameters (from the Patient Friendly defaults of: {\"temperature\": 0, \"top_p\" : 0.95, \"max_tokens\": 800}), or the chain of messages. A conversation is the addition of 'layers' in that nested list, system then user, then system, then user etc. "
   ]
  },
  {
   "cell_type": "markdown",
   "id": "b81a84bf",
   "metadata": {},
   "source": [
    "#### Check Patient Friendly chat parameters"
   ]
  },
  {
   "cell_type": "code",
   "execution_count": 7,
   "id": "ac4f796c",
   "metadata": {
    "scrolled": true
   },
   "outputs": [
    {
     "data": {
      "text/plain": [
       "[{'role': 'system',\n",
       "  'content': 'You are an AI assistant for a health system called NYU Langone Health who will provide a summary of the hospital course in plain, easy-to-understand language for a patient who is discharged from hospital.'},\n",
       " {'role': 'user',\n",
       "  'content': 'DISCHARGE NARRATIVE\\n\\xa0\\nAdmit date: 7/9/2023\\n\\xa0\\nExpected Discharge date: \\u200b \\u200b\\u200b\\n\\xa0\\nAttending Authorizing Discharge: Dr. Alexey Yanilshtein\\nAdmission Diagnoses: Right perinephric Hematoma\\n\\xa0\\nDischarge Diagnoses/Hospital Problems:\\nActive Problems:\\n  Renal mass, right\\nResolved Problems:\\n  * No resolved hospital problems. *\\n\\xa0\\n\\xa0\\n\\u200b\\xa0\\n\\xa0\\nIndication for Admission: Right Perinephric hematoma with acute extravasation\\n\\xa0\\nHistory of Present Illness: \\nThis is a\\xa062 y.o.\\xa0male\\xa0with past urological history significant for renal colic x2\\xa0(both stones passed spontaneously without surgical intervention)\\xa0and right renal mass which has been followed by his private urologist\\xa0(Dr. Grotas\\xa0not associated with Winthrop Hospital) who presents\\xa0today with complaint of acute onset right flank pain. \\xa0Pain described as being in the right flank and radiating slightly to the right lower abdominal quadrant. \\xa0There are no mitigating or alleviating components of the pain.\\n\\xa0\\nCAT scan\\xa0- Right renal subcapsular hematoma most likely originating from the previously seen soft tissue attenuating mass. Associated mass effect on the right kidney\\n\\xa0\\nPatient will be admitted for CT angiogram and possible embolization performed by interventional radiology.\\n\\n\\xa0\\nHospital Course: \\n\\xa0\\nRichard Herman is a 62-year-old gentleman with a PMH of HTN, HLD, prostate cancer on surveillance, OSA noncompliant with CPAP, GERD, kidney stone who presented to NYU LI on 7/9/2023 for severe and sudden onset right flank pain.\\xa0\\xa0Overnight patient woke up at 2 AM and had severe right-sided flank pain that was associated with nausea and vomiting. \\xa0Over the past few weeks, patient states has been hypertensive and his physicians are having difficulty keeping his blood pressure under control. \\xa0He has always had a history of hypertension however it has been worse over the past few weeks.\\n\\xa0\\nIn the ED he was HDS: Afebrile,\\xa0BP 158/108, satting 94% on RA. \\xa0A Noncon CT AP revealed right renal subscapular hematoma originating from a soft tissue attenuating mass and a CT angio AP revealed right perinephric hematoma with active extravasation. \\xa0He was brought to the IR suite and is now status post selective right renal embolization.\\xa0\\xa0EBL less than 5 cc. \\xa0Personally discussed with IR attending Dr. Malhotra\\xa0who would like to monitor this patient in the ICU.\\n\\xa0\\nMICU course: Hgb was monitored and now stable (last 11.7). Hemodynamics have been stable. PTA blood pressure medications were held following IR embolization, and vitals have been stable. IR access site right groin appears to be healing well, without signs of developing hematoma 07/10. Pt denies pain, stable for downgrade\\n\\xa0\\nHoag 1:\\nBps have been stable, continued to hold BP meds. Groin site healing well. \\n7/11 BP 162/104 home medications reinstated,repeat BP 137/77. TTE Done LV ejection fraction is normal (60 %). . Follow up with PMD and Dr.Grotas Lawrence (Urologist) as out patient. Triple phase CTA done, Interval resolution of active arterial extravasation within the previously seen right subcapsular hematoma following IR angioembolization. There is no new active arterial extravasation. Compared to the CTA dated 7/9/2023, Continued cross-sectional imaging follow-up in the near future is advised. \\nPatient is evaluated and stable to discharge home today. Follow up with PMD and Urologist as recommended.\\n\\xa0\\nProcedures: \\nS/p IR Angio embolization on 7/9\\n\\xa0\\n\\xa0\\nDisposition: Home/ Self Care '},\n",
       " {'role': 'assistant',\n",
       "  'content': \"Dear [Patient Name],\\n\\nWe hope you are doing well. We're writing this letter to help you understand what happened during your recent hospital stay. You were in hospital from July 9, 2023 to [Discharge Date]. Dr. Yanilshtein was the doctor in charge of your care.\\n\\nWhat brought me to the hospital?\\n• You came to the hospital because of sudden pain in your right side.\\n\\nWhy was I hospitalized?\\n• You were hospitalized because of a right perinephric hematoma. This means there was bleeding around your right kidney. You also had a renal mass, which is a growth on your kidney.\\n\\nWhat happened in the hospital?\\n• The doctors did a special scan called a CT angiogram. They found active bleeding around your kidney. You had a procedure called embolization to stop the bleeding. The doctors watched your blood levels and blood pressure. They also checked on your pain level and for any more bleeding.\\n\\nWhat should I know after leaving the hospital?\\n• You will need to follow up with your primary care doctor and your urologist, Dr. Grotas Lawrence. They will check on your kidney. Make sure to look at your discharge instructions in NYU Langone Health After Visit Guide.\\n\\nHow was this summary written?\\n• We used an artificial intelligence computer* to make this easy-to-understand summary of a doctor’s discharge note. We are providing this summary only to help you understand your hospital stay better. This does not replace what your doctors have told you. If you have any questions, please talk to your doctors.\\n\\nThank you for trusting NYU Langone Health with your care. We wish you the best in managing your health and well-being.\\n\\nSincerely,\\n\\nNYU Langone Health\\n\\n*Artificial intelligence (AI) is a computer helper that can learn, think, and make choices. AI can be really helpful for doctors and patients. We think AI will make healthcare better. Your health information is safe and protected. If you have questions about AI at NYU Langone Health, please email AIQuestion@NYULangone.org.\"},\n",
       " {'role': 'user',\n",
       "  'content': \"DISCHARGE NARRATIVE\\n\\xa0\\nAdmit date: 6/26/2023\\n\\xa0\\nExpected Discharge date: 6/29/2023 \\u200bMidday by 12 PM\\n\\xa0\\nAttending Authorizing Discharge: Richard Carlino, MD\\n\\xa0\\nAdmission Diagnoses: CAP\\n\\xa0\\nDischarge Diagnoses/Hospital Problems:\\nPrincipal Problem:\\n  Pneumonia\\nActive Problems:\\n  Bronchiectasis with acute lower respiratory infection\\n  Ground glass opacity present on imaging of lung\\n  Rheumatoid arthritis\\n  Lupus anticoagulant syndrome\\n  Subacute cough\\nResolved Problems:\\n  * No resolved hospital problems. *\\n\\xa0\\n\\xa0\\n\\xa0\\nIndication for Admission: CAP\\n\\xa0\\nHistory of Present Illness:\\n58 y/o F with PMHx of SLE, fibromyalgia, RA, osteopenia who presents with chronic cough and SOB likely 2/2 PNA seen on outpatient CT chest. Admitted to medicine for PNA and IV antibiotics.\\n\\xa0\\nIn the ED, patient's BP 111/72, HR 67, RR 16 satting 98% on RA, afebrile 98.1F. Labs showed anemia with Hgb 10.9, unclear if chronic. Labs otherwise unremarkable. Covid/flu negative. Blood cultures pending. Patient was started on IV CTX and Doxy. Procal and RVP were negative. \\n\\xa0\\n\\xa0\\nHospital Course: \\nPt continued on IV Ceftriaxone, doxycycline. Pulm following and pt on duonebs and Solumedrol IV 40 mg x 2 days. Pt completed a 3 day IV abx. Pt has been on RA with no wheezing. Will be d/c'd on 4 more days of PO vantin 200 mg BID to complete a 7 day abx course. Will also send on a steroid taper as per pulmonary. Will need repeat CT chest in 4-6 weeks. Discharge plan, medications, and follow up appointments were discussed with the pt and pt verbalized understanding. Pt is currently hemodynamically stable and is ready for discharge.\\n\\xa0\\nProcedures/Relevant Diagnostic Studies: None\\n\\xa0\\n\\n\\xa0\\nDisposition: Skilled Nursing Facility\"},\n",
       " {'role': 'assistant',\n",
       "  'content': 'Dear [Patient Name],\\n\\nWe hope this letter finds you well. We\\'re writing this letter to help you understand what happened during your recent hospital stay. You were in hospital from June 26, 2023 to June 29, 2023. Dr. Carlino was the doctor in charge of your care.\\n\\nWhat brought me to the hospital?\\n• You came to the hospital because of cough and shortness of breath.\\n\\nWhy was I hospitalized?\\n• You were hospitalized because the doctors found a lung infection called pneumonia. You needed more tests, treatments, and monitoring.\\n\\nWhat happened in the hospital?\\n• Tests showed you had low red blood cells, but other tests were normal. You did not have COVID-19 or the flu. The doctors gave you intravenous antibiotics called ceftriaxone and doxycycline to help you fight pneumonia. \"Intravenous\" means through a needle in your vein. A lung doctor followed your case and gave you breathing treatments and steroid called Solumedrol. You finished 3 days of antibiotics and 2 days of steroid in the hospital. You became stable and ready to leave the hospital.\\n\\nWhat should I know after leaving the hospital?\\n• You will continue antibiotics by mouth after discharge for 4 more days. You will take more steroids for a short time to help your lungs. You will need another chest scan in 4-6 weeks to check your lungs. Please remember to follow the instructions given to you when you left the hospital. Please follow up with your doctors for close monitoring. Make sure to look at your discharge instructions in NYU Langone Health After Visit Guide.\\n\\nHow was this summary written?\\n• We used an artificial intelligence computer* to make this easy-to-understand summary of a doctor’s discharge note. We are providing this summary only to help you understand your hospital stay better. This does not replace what your doctors have told you. If you have any questions, please talk to your doctors.\\n\\nThank you for trusting NYU Langone Health with your care. Wishing you a speedy recovery.\\n\\nSincerely,\\n\\nNYU Langone Health\\n\\n*Artificial intelligence (AI) is a computer helper that can learn, think, and make choices. AI can be really helpful for doctors and patients. We think AI will make healthcare better. Your health information is safe and protected. If you have questions about AI at NYU Langone Health, please email AIQuestion@NYULangone.org.'}]"
      ]
     },
     "execution_count": 7,
     "metadata": {},
     "output_type": "execute_result"
    }
   ],
   "source": [
    "chat_payload\n",
    "# current set up is a custom system message, and\n",
    "# two-shot learning examples, user messsage of d/c narrative -> assistant output of a patient friendly summary."
   ]
  },
  {
   "cell_type": "code",
   "execution_count": 8,
   "id": "8f4e4ec3",
   "metadata": {},
   "outputs": [
    {
     "name": "stdout",
     "output_type": "stream",
     "text": [
      "{'deploymentName': 'GPT4', 'maxResponseLength': 800, 'temperature': 0, 'topProbablities': 0.95, 'stopSequences': None, 'pastMessagesToInclude': 10, 'frequencyPenalty': 0, 'presencePenalty': 0}\n",
      "{'temperature': 0, 'top_p': 0.95, 'max_tokens': 800}\n"
     ]
    }
   ],
   "source": [
    "# chat parameters are \n",
    "print(gpt_settings) # note the different naming from the Azure side vs the API side\n",
    "print({\"temperature\": 0, \"top_p\": 0.95, \"max_tokens\": 800}) # API friendly namnig\n",
    "# you can override any of these and feed them into the above. "
   ]
  },
  {
   "cell_type": "markdown",
   "id": "85f1c343",
   "metadata": {},
   "source": [
    "#### Testing PF DC generation"
   ]
  },
  {
   "cell_type": "code",
   "execution_count": 9,
   "id": "db7e3469-191e-4b88-bb10-6c9697522798",
   "metadata": {},
   "outputs": [],
   "source": [
    "### Updating the gpt function call\n",
    "\n",
    "def request_gpt(content, config, settings=None):\n",
    "    payload = { \n",
    "        \"temperature\": 0, \n",
    "        \"top_p\" : 0.95,\n",
    "        \"max_tokens\": 800, \n",
    "        \"messages\": content\n",
    "    }\n",
    "    if settings: # i.e. not empty or default\n",
    "        payload.update(settings) # override above defaults with one or more specified\n",
    "    \n",
    "    headers = { \n",
    "      'apikey': config.get('kong').get('apikey'), \n",
    "      'Content-Type': 'application/json' \n",
    "    }\n",
    "    #url = \"https://genai-api.prod1.nyumc.org/openai/deployments/GPT4/chat/completions?api-version=2023-07-01-preview\" \n",
    "    url = \"https://genai-api.prod1.nyumc.org/openai/deployments/GPT4/chat/completions?api-version=2023-03-15-preview\" \n",
    "    \n",
    "    res = requests.post(url, headers=headers, data=json.dumps(payload)) \n",
    "    response = res.json()\n",
    "\n",
    "    return response"
   ]
  },
  {
   "cell_type": "code",
   "execution_count": 10,
   "id": "8a633793-46ab-4c80-b7bf-69aeafa1da17",
   "metadata": {},
   "outputs": [],
   "source": [
    "note_text_test = '''\n",
    "\"DISCHARGE NARRATIVE\\n\\n \\n\\n\\nAdmit date: 7/9/2024\\n\\n \\n\\n\\nExpected Discharge date: 7/12/2024 ‚Äã‚Äã\\n\\n \\n\\n\\nAttending Authorizing Discharge: Dr. Jeffrey Samuel\\n\\n \\n\\n\\nAdmission Diagnoses: Anemia due to acute blood loss [D62]\\n\\nCoffee ground emesis [K92.0]\\n\\nGastrointestinal hemorrhage, unspecified gastrointestinal hemorrhage type [K92.2]\\n\\nHematemesis, unspecified whether nausea present [K92.0]\\n\\n \\n\\n \\n\\n\\nDischarge Diagnoses/Hospital Problems:\\n\\nPrincipal Problem:\\n\\nAnemia due to acute blood loss\\n\\nActive Problems:\\n\\nCoffee ground emesis\\n\\nHematemesis\\n\\nResolved Problems:\\n\\n* No resolved hospital problems. *\\n\\n \\n\\n \\n\\n \\n\\n \\n\\n \\n\\n\\nIndication for Admission: Anemia due to acute blood loss [D62]\\n\\nCoffee ground emesis [K92.0]\\n\\nGastrointestinal hemorrhage, unspecified gastrointestinal hemorrhage type [K92.2]\\n\\nHematemesis, unspecified whether nausea present [K92.0]\\n\\n \\n\\n \\n\\n\\nHistory of Present Illness:   \\nSee below\\n\\n| |   \\n---|---|---  \\n\\nHospital Course:   \\n77 year-old White male with PMHx of A-fib (Xarelto d/c'd due to GIB), HTN, HLD, CKD, Type 2 DM, Asthma who presented to the ED due to hematemesis and melena s/p outpatient EGD with findings of gastritis and non-bleeding gastric ulcer which was biopsied 07/09. Patient states he has a hx of GIB - was hospitalized last year - and had an EGD at that time which was notable for erosive gastritis, erosive duodenitis and duodenal ulcer. He follows with Dr. Rizzo (GI) and was planned for EGD 07/09 to monitor these findings. Per chart review the EGD was notable for non-bleeding gastric ulcer with pigmented material - which was biopsied. There was also findings of gastritis. Patient stated he went home and had a hot and sour soup and thereafter had 2 episodes of dark bowel movements and one episode of vomiting bright red blood. \\n\\nPatient then called his gastroenterologist and was told to come into the ED. \\n\\n \\n\\nED Course\\n\\nWhile in the ED the patient's course is notable for large volume hematemesis and hypotension 90/50's. Labs were notable for Hg at lactate of 5.3, BUN of 56, Hg of 11.4 (with previous baseline 03/2024 in 14.5) s/p 1U. GI evaluated the patient - s/p urgent EGD with findings of clotted blood seen in the stomach, bright red blood seen in the duodenal bulb, and 5mm cratered ulcer at the pre-pyloric area s/p 2 clips.\\n\\n \\n\\nAt time of exam patient denied recent fevers, chills, SOB, chest pain, abdominal pain. Patient stated he was having melena and hematemesis after the endoscopy and a large volume of hematemesis in the ED with associated nausea. He denied any current nausea at the time of evaluation. He also states that at home prior to these episodes today - he was not having melena or hematemesis - he states he's been in his normal state of health. Last use of ASA was a few days ago. \\n\\n \\n\\nHoag 1\\n\\n7/11 Cleared by GI to resume ASA, unheld cardiovascular meds. Hemoglobin remains stable. Diet was advanced. \\n\\n7/12 Due to having one episode of bright red blood per rectum and experiencing dizziness, cardiovascular meds were reheld. Hemoglobin is slowly declining but still above transfusion threshold. PM CBC stable. Was orthostatics positive, pending repeat. \\n\\n7/13 hemoglobin has stabilized, low suspicion for active bleeding at this time. Orthostatics positive in AM, pending repeat.\\n\\n \\n\\nProcedures/\\nDisposition: Home/ Self Care\\n\\n \\n\\n \\n\\nHome Health Face-to-Face Encounter Certification, Name of Physician for Home Care Follow Up: Peter Spiegler, MD, Medical condition which is related to the primary reason the patient needs home care (Diagnosis: GI bleed and Debility related to hospitalization. The following clinical findings support that the patient is homebound due to the need for help of another person to leave home and that the patient needs intermittent skilled nursing and/or therapy New diagnosis ., Skilled Nursing Needs (perform, assess and/or instruct):, RN as needed for change in clinical status, PT, OT, Speech Therapy/Language Pathology (perform, assess and/or instruct):, PT and/or OT for weakness or deconditioning, Physician Documentation:, I, a licensed physician, had a face to face encounter with the above-named patient on 7/10/2024 for the above medical condition(s) which is related to the primary reason the patient needs home care., I certify that the patient is under my care and I have initiated the establishment of the home health plan of care and that this patient will be followed by a physician who will periodically review the plan of care., Additional Comments or Instructions:\\n\\n‚Äã\"\n",
    "'''"
   ]
  },
  {
   "cell_type": "code",
   "execution_count": null,
   "id": "6299377f",
   "metadata": {},
   "outputs": [],
   "source": [
    "temp = chat_payload.copy() # copy from the one set from config\n",
    "temp.append({'role': 'user',\n",
    "#             'content': 'Select a random number between 1 and 100,000'})\n",
    "             'content': prompt.replace('{text}', note_text_test)})\n",
    "gpt_result = request_gpt(temp, config) # supplying no third argument uses default parameters\n",
    "\n",
    "if not gpt_result.get('choices'):\n",
    "    print('bad payload')\n",
    "else:\n",
    "    if len(gpt_result.get('choices')) > 1:\n",
    "        print('more than one result')\n",
    "    for c in gpt_result.get('choices'):\n",
    "        result = c.get('message').get('content')\n",
    "        reason = c.get('finish_reason')\n",
    "        print(reason)\n"
   ]
  },
  {
   "cell_type": "code",
   "execution_count": null,
   "id": "962a0549",
   "metadata": {},
   "outputs": [],
   "source": [
    "postprocess_gpt_outputs(result)"
   ]
  },
  {
   "cell_type": "markdown",
   "id": "269db9b6-766b-4389-ac76-72575c6b0ab9",
   "metadata": {},
   "source": [
    "#### Running GPT calls\n",
    "Re-generating the patient friendly discharge summaries with the summaries that have the demographic values changed"
   ]
  },
  {
   "cell_type": "code",
   "execution_count": 14,
   "id": "62767de8-8b3e-4dd6-aa21-8f9e20e95d21",
   "metadata": {},
   "outputs": [],
   "source": [
    "import pandas as pd\n",
    "import numpy as np\n",
    "import matplotlib.pyplot as plt\n",
    "import seaborn as sns \n",
    "import os\n",
    "import json\n",
    "import re"
   ]
  },
  {
   "cell_type": "code",
   "execution_count": 16,
   "id": "b200702e-415c-46b9-b8c1-df619b34dc1a",
   "metadata": {},
   "outputs": [],
   "source": [
    "counter_test = pd.read_csv('Perturbing/20250109_pertub_test.csv')"
   ]
  },
  {
   "cell_type": "code",
   "execution_count": 46,
   "id": "25181160-478a-400d-91eb-67fc4e0dcd56",
   "metadata": {},
   "outputs": [],
   "source": [
    "counter_test_short = counter_test.head(10).copy()"
   ]
  },
  {
   "cell_type": "code",
   "execution_count": 18,
   "id": "e182348a-6a94-4fd7-9215-78ef573bf12f",
   "metadata": {},
   "outputs": [],
   "source": [
    "def gen_PF_sum_test(note_text):\n",
    "    temp = [{'role': 'user', 'content': prompt.replace('{text}', note_text)}]\n",
    "    gpt_result = request_gpt(temp, config)\n",
    "    time.sleep(20)\n",
    "\n",
    "    #print(gpt_result)\n",
    "\n",
    "    if not gpt_result.get('choices'):\n",
    "        print('bad payload')\n",
    "        return None\n",
    "\n",
    "    result = None\n",
    "    for c in gpt_result.get('choices'):\n",
    "        result = c.get('message').get('content')\n",
    "        reason = c.get('finish_reason')\n",
    "        print(reason)\n",
    "        break\n",
    "\n",
    "    if result is None:\n",
    "        print(\"No valid content in choices\")\n",
    "        return None\n",
    "\n",
    "    return postprocess_gpt_outputs(result)\n"
   ]
  },
  {
   "cell_type": "code",
   "execution_count": 47,
   "id": "5f5d5f61-1232-4b68-906d-f5d6a1321fa1",
   "metadata": {},
   "outputs": [],
   "source": [
    "counter_test_short_list = counter_test_short['race_1_change'].to_list()"
   ]
  },
  {
   "cell_type": "code",
   "execution_count": null,
   "id": "2ecf39da-f234-4e7c-9664-ab61db4fdcc8",
   "metadata": {},
   "outputs": [],
   "source": [
    "counter_output_test = gen_PF_sum_test(counter_test_short_list[1])"
   ]
  },
  {
   "cell_type": "code",
   "execution_count": 70,
   "id": "629632f1-9a60-4a06-99fd-4c86905ccf5d",
   "metadata": {},
   "outputs": [
    {
     "data": {
      "text/plain": [
       "{'answers': ['What brought me to the hospital?',\n",
       "  'You came to the hospital because you were having seizures and feeling unwell. You also had a hard time doing your daily tasks.',\n",
       "  'Why was I hospitalized?',\n",
       "  'You were in the hospital because you have a glioma and seizure-like activity. A glioma is a type of brain tumor. Seizure-like activity means you were having seizures, which are sudden, uncontrolled electrical disturbances in the brain.',\n",
       "  'What happened in the hospital?',\n",
       "  'While in the hospital, you had more seizures. The doctors found a glioma in your brain using a special picture called an MRI. They also found that you have cerebral venous sinus thrombosis, which is a blood clot in the brain, and psychogenic nonepileptic seizures, which are seizures that are not caused by abnormal brain activity. The doctors stopped some of your seizure medicine and changed your blood thinner medicine. They also talked to you, your mom, and your other doctors about your care plan.',\n",
       "  'What should I know after leaving the hospital?',\n",
       "  'After leaving the hospital, you should know that you need to see your brain doctor, your blood doctor, and your seizure doctor. You also need to take care of yourself at home. Make sure to look at your discharge instructions in NYU Langone Health After Visit Guide.'],\n",
       " 'q_success': True,\n",
       " 'Q1': 'You came to the hospital because you were having seizures and feeling unwell. You also had a hard time doing your daily tasks.',\n",
       " 'Q2': 'You were in the hospital because you have a glioma and seizure-like activity. A glioma is a type of brain tumor. Seizure-like activity means you were having seizures, which are sudden, uncontrolled electrical disturbances in the brain.',\n",
       " 'Q3': 'While in the hospital, you had more seizures. The doctors found a glioma in your brain using a special picture called an MRI. They also found that you have cerebral venous sinus thrombosis, which is a blood clot in the brain, and psychogenic nonepileptic seizures, which are seizures that are not caused by abnormal brain activity. The doctors stopped some of your seizure medicine and changed your blood thinner medicine. They also talked to you, your mom, and your other doctors about your care plan.',\n",
       " 'Q4': 'After leaving the hospital, you should know that you need to see your brain doctor, your blood doctor, and your seizure doctor. You also need to take care of yourself at home.'}"
      ]
     },
     "execution_count": 70,
     "metadata": {},
     "output_type": "execute_result"
    }
   ],
   "source": [
    "counter_output_test"
   ]
  },
  {
   "cell_type": "code",
   "execution_count": null,
   "id": "797345de-b241-43a8-90e1-200aca45f0ea",
   "metadata": {},
   "outputs": [],
   "source": [
    "counter_test['PF_race_bl_2'] = counter_test['race_eth'].apply(gen_PF_sum_test)"
   ]
  },
  {
   "cell_type": "code",
   "execution_count": null,
   "id": "b493854e-f346-447a-8187-fff677ee60ba",
   "metadata": {},
   "outputs": [],
   "source": [
    "counter_test.loc[counter_test['PF_race_bl_2'].isna(), 'PF_race_bl_2'] = (\n",
    "    counter_test.loc[counter_test['PF_race_bl_2'].isna(), 'race_eth']\n",
    "    .apply(gen_PF_sum_test)\n",
    ")"
   ]
  },
  {
   "cell_type": "code",
   "execution_count": 34,
   "id": "089e076a-f1e8-4ed9-96d8-b05de7261d42",
   "metadata": {},
   "outputs": [],
   "source": [
    "counter_test.to_csv('20250131_counter_bl_2.csv')"
   ]
  },
  {
   "cell_type": "code",
   "execution_count": null,
   "id": "8224a0ed-72f2-412d-a17e-ac4f673b7273",
   "metadata": {},
   "outputs": [],
   "source": [
    "counter_test3['PF_race_3'] = counter_test3['race_3_change'].apply(gen_PF_sum_test)"
   ]
  },
  {
   "cell_type": "code",
   "execution_count": null,
   "id": "f6b2221f-e705-4b69-973f-bf1dbbbf6a5b",
   "metadata": {},
   "outputs": [],
   "source": [
    "counter_master.loc[counter_master['PF_race_bl'].isna(), 'PF_race_bl'] = (\n",
    "    counter_master.loc[counter_master['PF_race_bl'].isna(), 'race_eth']\n",
    "    .apply(gen_PF_sum_test)\n",
    ")\n"
   ]
  },
  {
   "cell_type": "code",
   "execution_count": null,
   "id": "11fad415-367c-4f51-979a-5ebaef503993",
   "metadata": {},
   "outputs": [],
   "source": [
    "counter_master.loc[counter_master['PF_race_1'].isna(), 'PF_race_1'] = (\n",
    "    counter_master.loc[counter_master['PF_race_1'].isna(), 'race_1_change']\n",
    "    .apply(gen_PF_sum_test)\n",
    ")"
   ]
  },
  {
   "cell_type": "code",
   "execution_count": null,
   "id": "ac6d3ddc-7dd4-4aa0-8c15-b39c33ee728d",
   "metadata": {},
   "outputs": [],
   "source": [
    "counter_master.loc[counter_master['PF_race_2'].isna(), 'PF_race_2'] = (\n",
    "    counter_master.loc[counter_master['PF_race_2'].isna(), 'race_2_change']\n",
    "    .apply(gen_PF_sum_test)\n",
    ")"
   ]
  },
  {
   "cell_type": "code",
   "execution_count": null,
   "id": "5b0c2d6b-6485-41f7-b9a4-4455123ddbbe",
   "metadata": {},
   "outputs": [],
   "source": [
    "counter_master.loc[counter_master['PF_race_3'].isna(), 'PF_race_3'] = (\n",
    "    counter_master.loc[counter_master['PF_race_3'].isna(), 'race_3_change']\n",
    "    .apply(gen_PF_sum_test)\n",
    ")"
   ]
  },
  {
   "cell_type": "code",
   "execution_count": 34,
   "id": "9078115e-d432-4842-b019-7cc7715fb4bb",
   "metadata": {},
   "outputs": [],
   "source": [
    "counter_master.to_csv('20250113_counter_master_complete.csv')"
   ]
  },
  {
   "cell_type": "code",
   "execution_count": 35,
   "id": "5657c419-8cc7-4681-b637-3893ee8b55b5",
   "metadata": {},
   "outputs": [],
   "source": [
    "counter_gender = pd.read_csv('20250112counter_gender.csv')"
   ]
  },
  {
   "cell_type": "code",
   "execution_count": null,
   "id": "4c0a6936-dbed-4869-95ea-75de51321c7e",
   "metadata": {},
   "outputs": [],
   "source": [
    "counter_gender.loc[counter_gender['PF_gender'].isna(), 'PF_gender'] = (\n",
    "    counter_gender.loc[counter_gender['PF_gender'].isna(), 'gender_counter']\n",
    "    .apply(gen_PF_sum_test)\n",
    ")"
   ]
  },
  {
   "cell_type": "code",
   "execution_count": 79,
   "id": "f5ab2684-295a-4ef3-8bc2-6a7ea727ede8",
   "metadata": {},
   "outputs": [],
   "source": [
    "def extract_answers(cell):\n",
    "    if isinstance(cell, dict):  # Check if it's a dict and has 'answers'\n",
    "        return cell.get('answers')  # Extract the 'answers' key\n",
    "    return None  # Return None if not a valid dict"
   ]
  },
  {
   "cell_type": "code",
   "execution_count": 80,
   "id": "ff4ca32e-a732-4e3b-a531-ef9b34b26510",
   "metadata": {},
   "outputs": [],
   "source": [
    "# Apply to the column\n",
    "counter_gender_short['PF_gender'] = counter_gender_short['PF_gender'].apply(extract_answers)"
   ]
  }
 ],
 "metadata": {
  "kernelspec": {
   "display_name": "Python 3 (ipykernel)",
   "language": "python",
   "name": "python3"
  },
  "language_info": {
   "codemirror_mode": {
    "name": "ipython",
    "version": 3
   },
   "file_extension": ".py",
   "mimetype": "text/x-python",
   "name": "python",
   "nbconvert_exporter": "python",
   "pygments_lexer": "ipython3",
   "version": "3.11.5"
  }
 },
 "nbformat": 4,
 "nbformat_minor": 5
}
