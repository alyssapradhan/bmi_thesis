{
 "cells": [
  {
   "cell_type": "code",
   "execution_count": 5,
   "metadata": {},
   "outputs": [],
   "source": [
    "import pandas as pd\n",
    "import numpy as np\n",
    "import matplotlib.pyplot as plt\n",
    "import seaborn as sns \n",
    "import os\n",
    "import json\n",
    "import re"
   ]
  },
  {
   "cell_type": "code",
   "execution_count": null,
   "metadata": {},
   "outputs": [],
   "source": [
    "! pip install openai==1.55.0"
   ]
  },
  {
   "cell_type": "code",
   "execution_count": 6,
   "metadata": {},
   "outputs": [],
   "source": [
    "import sys\n",
    "shared_path = '/gpfs/data/majorlab/biasaudit'\n",
    "sys.path.insert(0, shared_path)"
   ]
  },
  {
   "cell_type": "code",
   "execution_count": 7,
   "metadata": {},
   "outputs": [],
   "source": [
    "import yaml\n",
    "\n",
    "with open(os.path.join(shared_path, \"gpt_config.yml\"), \"r\") as cfg:\n",
    "    config = yaml.safe_load(cfg.read())\n",
    "\n",
    "api_key = config.get('apikey')"
   ]
  },
  {
   "cell_type": "code",
   "execution_count": 8,
   "metadata": {},
   "outputs": [
    {
     "name": "stdout",
     "output_type": "stream",
     "text": [
      "Sure! Here is a random number between 1 and 100,000: 47,283.\n"
     ]
    }
   ],
   "source": [
    "import requests\n",
    "\n",
    "#test\n",
    "\n",
    "payload = json.dumps({\"temperature\": 0, \n",
    "                      \"top_p\" : 0.95,\n",
    "                      \"max_tokens\": 800, \n",
    "                      \"messages\": [\n",
    "                          {\"role\": \"system\", \n",
    "                           \"content\": \"You are a helpful assistant.\"}, \n",
    "                          {\"role\": \"user\", \n",
    "                           \"content\": \"Select a random number between 1 and 100,000\"}] }) \n",
    "  \n",
    "headers = {\"apikey\": config.get('kong').get('apikey'),\n",
    "           'Content-Type': 'application/json'} \n",
    "url = \"https://genai-api.prod1.nyumc.org/gpt-4o/v1.0.0/chat/completions\" \n",
    "  \n",
    "res = requests.post(url, headers=headers, data=payload) \n",
    "\n",
    "if res.status_code != 200:\n",
    "    print('error')\n",
    "elif not res.json().get('choices'):\n",
    "    print('bad payload')\n",
    "else:\n",
    "    if len(res.json().get('choices')) > 1:\n",
    "        print('more than one result')\n",
    "    for c in res.json().get('choices'):\n",
    "        result = c.get('message').get('content')\n",
    "        print(result)"
   ]
  },
  {
   "cell_type": "code",
   "execution_count": 12,
   "metadata": {},
   "outputs": [],
   "source": [
    "# Load csv\n",
    "\n",
    "to_counter = pd.read_csv('20250107_cleaned_perturb.csv')"
   ]
  },
  {
   "cell_type": "code",
   "execution_count": 14,
   "metadata": {},
   "outputs": [],
   "source": [
    "# API call to perturb gender\n",
    "\n",
    "def gender_counter(DC_text):\n",
    "    payload = json.dumps({\"temperature\": 0, \n",
    "                      \"top_p\" : 0.95,\n",
    "                      \"max_tokens\": 800, \n",
    "                      \"messages\": [\n",
    "                          {\"role\": \"system\", \n",
    "                           \"content\": \"You are a helpful and knowledgable medical assistant\"}, \n",
    "                          {\"role\": \"user\", \n",
    "                           \"content\": f\"The following is a discharge summary. Please change the gender of the patient to the opposite gender. {DC_text}\"}]}) \n",
    "  \n",
    "    headers = {\"apikey\": config.get('kong').get('apikey'),\n",
    "               'Content-Type': 'application/json'} \n",
    "    url = \"https://genai-api.prod1.nyumc.org/gpt-4o/v1.0.0/chat/completions\" \n",
    "      \n",
    "    res = requests.post(url, headers=headers, data=payload) \n",
    "    \n",
    "    if res.status_code != 200:\n",
    "        print('error')\n",
    "    elif not res.json().get('choices'):\n",
    "        print('bad payload')\n",
    "    else:\n",
    "        if len(res.json().get('choices')) > 1:\n",
    "            print('more than one result')\n",
    "        for c in res.json().get('choices'):\n",
    "            result = c.get('message').get('content')\n",
    "            return result\n"
   ]
  },
  {
   "cell_type": "code",
   "execution_count": 15,
   "metadata": {},
   "outputs": [],
   "source": [
    "to_counter_test.to_csv('20250109_gender_counter_test.csv')\n",
    "to_counter_test['gender_counter'] = to_counter_test['PF_note'].apply(gender_counter)\n",
    "to_counter['gender_counter'] = to_counter['PF_note'].apply(gender_counter)\n",
    "to_counter.to_csv('20250109_gender_counter.csv')"
   ]
  },
  {
   "cell_type": "markdown",
   "metadata": {},
   "source": [
    "#### Perturb outputs"
   ]
  },
  {
   "cell_type": "code",
   "execution_count": 35,
   "metadata": {},
   "outputs": [],
   "source": [
    "# Perturb race\n",
    "\n",
    "def perturb_race(row, target_col):\n",
    "    # Extract the necessary values from the row\n",
    "    age = row['ageinyears']\n",
    "    gender = row['sex']\n",
    "    race = row[target_col]\n",
    "    dc_string = row['updated_string']\n",
    "    \n",
    "    # Check if the race value is non-empty and insert it as a descriptor\n",
    "    if race != \"Not listed\" or race != \"Not Hispanic\":\n",
    "        descriptor = f\"{race} \"\n",
    "    else:\n",
    "        descriptor = \"\"\n",
    "\n",
    "    # Update the string using age, descriptor, and gender\n",
    "    updated_dc_string = dc_string.format(\n",
    "        age=age,\n",
    "        descriptor=descriptor.strip(),  # Ensure there's no extra space\n",
    "        gender=gender.lower()\n",
    "    )\n",
    "    \n",
    "    return updated_dc_string\n"
   ]
  },
  {
   "cell_type": "code",
   "execution_count": 22,
   "metadata": {},
   "outputs": [],
   "source": [
    "# Perturbing race with above function\n",
    "to_perturb = pd.read_csv('20250107_cleaned_perturb.csv')\n",
    "to_perturb['race_1_change'] = to_perturb.apply(perturb_race, axis=1, target_col='race_1')\n",
    "to_perturb['race_2_change'] = to_perturb.apply(perturb_race, axis=1, target_col='race_2')\n",
    "to_perturb.to_csv('20250109_pertub_test.csv')"
   ]
  },
  {
   "cell_type": "markdown",
   "metadata": {},
   "source": [
    "#### Extract and perturb gender"
   ]
  },
  {
   "cell_type": "code",
   "execution_count": 54,
   "metadata": {},
   "outputs": [],
   "source": [
    "# Extract age and gender\n",
    "def extract_and_insert_template(text):\n",
    "    pattern = r'(?<![\\d/])(\\d{2})[\\s-]*(?:y\\.o\\.|yo|year[\\s-]?old)?[\\s-]*(F|M|[a-zA-Z]{4,})'\n",
    "    matches = re.finditer(pattern, text)\n",
    "    \n",
    "    extracted = []\n",
    "    offset = 0  # To track changes in text length after replacements\n",
    "    \n",
    "    for match in matches:\n",
    "        age, gender = match.groups()\n",
    "        start, end = match.span()\n",
    "        \n",
    "        # Create a template string for insertion\n",
    "        template = f\"{{age}} year-old {{descriptor}} {{gender}}\"\n",
    "        \n",
    "        # Replace the matched string with the template\n",
    "        text = text[:start + offset] + template + text[end + offset:]\n",
    "        \n",
    "        # Calculate the offset for future replacements\n",
    "        offset += len(template) - (end - start)\n",
    "        \n",
    "        # Store extracted data\n",
    "        extracted.append({\n",
    "            'age': age,\n",
    "            'gender': gender,\n",
    "            'updated_string': text\n",
    "        })\n",
    "\n",
    "            # Ensure always returning 3 values (even if no match)\n",
    "    if extracted:\n",
    "        return extracted[-1]['age'], extracted[-1]['gender'], extracted[-1]['updated_string']\n",
    "    else:\n",
    "        return None, None, text  # Return original text if no match\n"
   ]
  },
  {
   "cell_type": "code",
   "execution_count": 55,
   "metadata": {},
   "outputs": [],
   "source": [
    "merged[['age', 'gender', 'updated_string']] = merged['PF_note'].apply(\n",
    "    lambda x: pd.Series(extract_and_insert_template(x))\n",
    ")"
   ]
  },
  {
   "cell_type": "code",
   "execution_count": 57,
   "metadata": {},
   "outputs": [],
   "source": [
    "merged.to_csv('test_merge.csv')"
   ]
  }
 ],
 "metadata": {
  "kernelspec": {
   "display_name": "Python 3 (ipykernel)",
   "language": "python",
   "name": "python3"
  },
  "language_info": {
   "codemirror_mode": {
    "name": "ipython",
    "version": 3
   },
   "file_extension": ".py",
   "mimetype": "text/x-python",
   "name": "python",
   "nbconvert_exporter": "python",
   "pygments_lexer": "ipython3",
   "version": "3.11.5"
  }
 },
 "nbformat": 4,
 "nbformat_minor": 4
}
